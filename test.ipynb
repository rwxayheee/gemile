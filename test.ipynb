{
 "cells": [
  {
   "cell_type": "code",
   "execution_count": 2,
   "metadata": {},
   "outputs": [
    {
     "name": "stderr",
     "output_type": "stream",
     "text": [
      "rdkitmol from cif has implicit hydrogens. -> template for DA will be None. \n"
     ]
    }
   ],
   "source": [
    "from chemtempgen_from_amber import *\n",
    "ChemicalComponent.from_lib(\"/Users/amyhe/Downloads/amber24_src/dat/leap/lib/DNA.OL15.lib\",\n",
    "                                                  \"DA\")"
   ]
  }
 ],
 "metadata": {
  "kernelspec": {
   "display_name": "Python 3",
   "language": "python",
   "name": "python3"
  },
  "language_info": {
   "codemirror_mode": {
    "name": "ipython",
    "version": 3
   },
   "file_extension": ".py",
   "mimetype": "text/x-python",
   "name": "python",
   "nbconvert_exporter": "python",
   "pygments_lexer": "ipython3",
   "version": "3.10.15"
  }
 },
 "nbformat": 4,
 "nbformat_minor": 2
}
